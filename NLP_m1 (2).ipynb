{
  "nbformat": 4,
  "nbformat_minor": 0,
  "metadata": {
    "colab": {
      "provenance": [],
      "gpuType": "T4"
    },
    "kernelspec": {
      "name": "python3",
      "display_name": "Python 3"
    },
    "language_info": {
      "name": "python"
    },
    "accelerator": "GPU"
  },
  "cells": [
    {
      "cell_type": "code",
      "source": [],
      "metadata": {
        "id": "z637BYX-vxRK"
      },
      "execution_count": null,
      "outputs": []
    },
    {
      "cell_type": "markdown",
      "source": [
        "importing modules\n"
      ],
      "metadata": {
        "id": "l1sYDW0Pvx7y"
      }
    },
    {
      "cell_type": "code",
      "source": [
        "import nltk\n",
        "nltk.download('punkt_tab')\n",
        "import pandas as pd\n",
        "import numpy as np\n",
        "import re\n",
        "import nltk\n",
        "from nltk.corpus import stopwords\n",
        "from nltk.stem import WordNetLemmatizer\n",
        "from sklearn.model_selection import train_test_split\n",
        "from sklearn.feature_extraction.text import TfidfVectorizer\n",
        "from sklearn.svm import SVC\n",
        "from sklearn.pipeline import Pipeline\n",
        "from sklearn.metrics import f1_score, classification_report"
      ],
      "metadata": {
        "id": "4AoR_xyswAd1"
      },
      "execution_count": null,
      "outputs": []
    },
    {
      "cell_type": "markdown",
      "source": [
        "# Load the datasets"
      ],
      "metadata": {
        "id": "suaVQSUOwCr6"
      }
    },
    {
      "cell_type": "code",
      "source": [
        "try:\n",
        "    train_df = pd.read_csv('/content/drive/MyDrive/DATA/train_2kmZucJ.csv')\n",
        "except FileNotFoundError:\n",
        "    print(\"Ensure train_2kmZucJ.csv is uploaded.\")\n",
        "    train_df = pd.DataFrame({\n",
        "        'id': range(3),\n",
        "        'label': [0, 1, 0],\n",
        "        'tweet': ['I love my new phone!', 'My laptop is so slow and buggy $&@*#', 'Just got the new headset, amazing quality.']\n",
        "    })"
      ],
      "metadata": {
        "id": "uDKU41erwGEy"
      },
      "execution_count": null,
      "outputs": []
    },
    {
      "cell_type": "markdown",
      "source": [
        "# ---  Preprocessing Steps ---"
      ],
      "metadata": {
        "id": "eCkXyoa2wJvy"
      }
    },
    {
      "cell_type": "code",
      "source": [
        "nltk.download('punkt', quiet=True)\n",
        "nltk.download('stopwords', quiet=True)\n",
        "nltk.download('wordnet', quiet=True)\n",
        "lemmatizer = WordNetLemmatizer()\n",
        "stop_words = set(stopwords.words('english'))\n",
        "\n",
        "def preprocess_text(text):\n",
        "    text = text.lower()\n",
        "    text = re.sub(r'http\\S+|www\\S+|https\\S+', '', text, flags=re.MULTILINE)\n",
        "    text = re.sub(r'@\\w+', '', text)\n",
        "    text = re.sub(r'[^\\w\\s\\$&@\\*#]', '', text)\n",
        "    tokens = nltk.word_tokenize(text)\n",
        "    cleaned_tokens = [lemmatizer.lemmatize(word) for word in tokens if word not in stop_words and len(word) > 1]\n",
        "    return \" \".join(cleaned_tokens)\n",
        "\n",
        "train_df['cleaned_tweet'] = train_df['tweet'].apply(preprocess_text)\n"
      ],
      "metadata": {
        "id": "hIn7carpwSGq"
      },
      "execution_count": null,
      "outputs": []
    },
    {
      "cell_type": "markdown",
      "source": [
        "# --- Define features (X) and target (y) and Split Data ---"
      ],
      "metadata": {
        "id": "-PP5L3ThwTVK"
      }
    },
    {
      "cell_type": "code",
      "source": [
        "X = train_df['cleaned_tweet']\n",
        "y = train_df['label']\n",
        "X_train, X_val, y_train, y_val = train_test_split(X, y, test_size=0.2, random_state=42, stratify=y)"
      ],
      "metadata": {
        "id": "kixXMk9SwWi7"
      },
      "execution_count": null,
      "outputs": []
    },
    {
      "cell_type": "markdown",
      "source": [
        "# --- Build and Train the SVM Pipeline ---\n"
      ],
      "metadata": {
        "id": "hNccS0IJwa06"
      }
    },
    {
      "cell_type": "code",
      "source": [
        "svm_pipeline = Pipeline([\n",
        "    ('tfidf', TfidfVectorizer(ngram_range=(1, 2), max_features=10000)),\n",
        "    ('svc', SVC(kernel='linear', class_weight='balanced', random_state=42, probability=True))\n",
        "])\n",
        "\n",
        "print(\"Training the SVM model...\")\n",
        "svm_pipeline.fit(X_train, y_train)\n"
      ],
      "metadata": {
        "id": "agTgii6FwewS"
      },
      "execution_count": null,
      "outputs": []
    },
    {
      "cell_type": "markdown",
      "source": [
        "# --- Evaluate the SVM Model ---"
      ],
      "metadata": {
        "id": "6jbBki-2wfbi"
      }
    },
    {
      "cell_type": "code",
      "source": [
        "\n",
        "y_pred_svm = svm_pipeline.predict(X_val)\n",
        "val_f1_svm = f1_score(y_val, y_pred_svm, average='weighted')\n",
        "\n",
        "print(\"\\nSVM Model Evaluation:\")\n",
        "print(f\"Validation Weighted F1-Score: {val_f1_svm:.4f}\\n\")\n",
        "print(\"Validation Classification Report:\")\n",
        "print(classification_report(y_val, y_pred_svm, target_names=['Not Negative (0)', 'Negative (1)']))"
      ],
      "metadata": {
        "colab": {
          "base_uri": "https://localhost:8080/"
        },
        "id": "ZnQPKxuzbAmw",
        "outputId": "44e2a7da-167a-41ea-be36-62dad5268354"
      },
      "execution_count": null,
      "outputs": [
        {
          "output_type": "stream",
          "name": "stdout",
          "text": [
            "Training the SVM model...\n",
            "\n",
            "SVM Model Evaluation:\n",
            "Validation Weighted F1-Score: 0.8854\n",
            "\n",
            "Validation Classification Report:\n",
            "                  precision    recall  f1-score   support\n",
            "\n",
            "Not Negative (0)       0.95      0.89      0.92      1179\n",
            "    Negative (1)       0.73      0.86      0.79       405\n",
            "\n",
            "        accuracy                           0.88      1584\n",
            "       macro avg       0.84      0.87      0.85      1584\n",
            "    weighted avg       0.89      0.88      0.89      1584\n",
            "\n"
          ]
        }
      ]
    },
    {
      "cell_type": "markdown",
      "source": [
        "# --- Predict on the test data using the trained SVM pipeline ---"
      ],
      "metadata": {
        "id": "4BiTyxVPwvbC"
      }
    },
    {
      "cell_type": "code",
      "source": [
        "print(\"Making predictions on the test set with the SVM model...\")\n",
        "X_test = test_df['cleaned_tweet']\n",
        "test_predictions_svm = svm_pipeline.predict(X_test)"
      ],
      "metadata": {
        "id": "WQ41dispwvKS"
      },
      "execution_count": null,
      "outputs": []
    },
    {
      "cell_type": "markdown",
      "source": [
        "# --- Create and save the submission file ---\n"
      ],
      "metadata": {
        "id": "qubKogvxw5Da"
      }
    },
    {
      "cell_type": "code",
      "source": [
        "\n",
        "\n",
        "submission_df_svm = pd.DataFrame({\n",
        "    'id': test_df['id'],\n",
        "    'label': test_predictions_svm\n",
        "})\n",
        "\n",
        "submission_df_svm.to_csv('submission_svm.csv', index=False)\n",
        "\n",
        "print(\"\\nSubmission file 'submission_svm.csv' created successfully!\")\n",
        "print(\"This file is ready for submission to the competition.\")\n",
        "print(\"\\nFirst 5 rows of the new submission file:\")\n",
        "print(submission_df_svm.head())"
      ],
      "metadata": {
        "colab": {
          "base_uri": "https://localhost:8080/"
        },
        "id": "iwsltXp6buKm",
        "outputId": "3faee625-b21a-4412-dcb3-ca885d9299e7"
      },
      "execution_count": null,
      "outputs": [
        {
          "output_type": "stream",
          "name": "stdout",
          "text": [
            "Making predictions on the test set with the SVM model...\n",
            "\n",
            "Submission file 'submission_svm.csv' created successfully!\n",
            "This file is ready for submission to the competition.\n",
            "\n",
            "First 5 rows of the new submission file:\n",
            "     id  label\n",
            "0  7921      1\n",
            "1  7922      1\n",
            "2  7923      1\n",
            "3  7924      1\n",
            "4  7925      1\n"
          ]
        }
      ]
    }
  ]
}